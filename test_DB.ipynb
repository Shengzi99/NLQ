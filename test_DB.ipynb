{
 "cells": [
  {
   "cell_type": "code",
   "execution_count": 1,
   "metadata": {},
   "outputs": [],
   "source": [
    "import os\n",
    "import json\n",
    "import datetime\n",
    "from typing import *\n",
    "from database.driver import MysqlDB\n",
    "from database.init_db import init_DB"
   ]
  },
  {
   "cell_type": "code",
   "execution_count": 2,
   "metadata": {},
   "outputs": [
    {
     "name": "stdout",
     "output_type": "stream",
     "text": [
      "execution success! NLQ database initialized!\n"
     ]
    },
    {
     "data": {
      "text/plain": [
       "True"
      ]
     },
     "execution_count": 2,
     "metadata": {},
     "output_type": "execute_result"
    }
   ],
   "source": [
    "# 初始化NLQ数据库\n",
    "init_DB()"
   ]
  },
  {
   "cell_type": "code",
   "execution_count": 3,
   "metadata": {},
   "outputs": [
    {
     "data": {
      "text/plain": [
       "2217"
      ]
     },
     "execution_count": 3,
     "metadata": {},
     "output_type": "execute_result"
    }
   ],
   "source": [
    "# 导入数据（请先生成足够多e.g. 10000条数据）\n",
    "resume_folder_path = \"./temp/resume/\"\n",
    "db_obj = MysqlDB()\n",
    "\n",
    "person_list = []\n",
    "exp_list = []\n",
    "label_list = []\n",
    "for file in os.scandir(resume_folder_path):\n",
    "    with open(file.path, 'r', encoding='utf-8') as f:\n",
    "        cur_dict = json.load(f)\n",
    "        # 读出人员信息\n",
    "        person_list.append((str(cur_dict[\"id\"]), str(cur_dict[\"id\"]), cur_dict['教育经历'], int(cur_dict['年龄']), 1 if cur_dict['性别']==\"男\" else 0, cur_dict['职级']))\n",
    "        # 读出经历信息\n",
    "        for exp_idx,(exp_k,exp_v) in enumerate(cur_dict['工作经历'].items()):\n",
    "            start_time = datetime.datetime.strptime(exp_v['start_time'], '%Y.%m').date()\n",
    "            end_time = datetime.datetime.strptime(exp_v['end_time'], '%Y.%m').date()\n",
    "            exp_list.append((str(cur_dict[\"id\"])+'-'+str(exp_idx), exp_k, start_time, end_time, str(cur_dict[\"id\"])))\n",
    "            # 读出标签信息\n",
    "            for lb_idx, lb in enumerate(exp_v[\"label\"]):\n",
    "                label_list.append((None, lb, str(cur_dict[\"id\"]), (str(cur_dict[\"id\"])+'-'+str(exp_idx)), start_time, end_time))\n",
    "\n",
    "# 向数据库中插入人员信息\n",
    "sql = \"REPLACE INTO person (person_id, person_name, edu, age, gender, jobrank) VALUES (%s,%s,%s,%s,%s,%s)\"\n",
    "db_obj.execute_many(sql, [(p) for p in person_list])\n",
    "\n",
    "# 向数据库中插入经历信息\n",
    "sql = \"REPLACE INTO experience (exp_id, exp_text, time_start, time_end, person_id) VALUES (%s,%s,%s,%s,%s)\"\n",
    "db_obj.execute_many(sql, [(e) for e in exp_list])\n",
    "\n",
    "# 向数据库中插入标签信息\n",
    "sql = \"INSERT INTO label (label_id, label_text, person_id, exp_id, time_start, time_end) VALUES (%s,%s,%s,%s,%s,%s)\"\n",
    "db_obj.execute_many(sql, [(l) for l in label_list])\n"
   ]
  },
  {
   "cell_type": "code",
   "execution_count": 4,
   "metadata": {},
   "outputs": [
    {
     "name": "stdout",
     "output_type": "stream",
     "text": [
      "(('230', '教育', 4, '财务会计', 5), ('309', '教育', 4, '财务会计', 4), ('47', '教育', 7, '财务会计', 7), ('789', '教育', 4, '财务会计', 3), ('87', '教育', 4, '财务会计', 3))\n"
     ]
    }
   ],
   "source": [
    "# 查询示例（双标签，需要支持更多标签只需多JOIN几次）\n",
    "label_a = (\"教育\", 2, \"以上\")\n",
    "label_b = (\"财务会计\", 8, \"以下\")\n",
    "\n",
    "condition_a = \"%s %d\"%(\">=\" if label_a[2]==\"以上\" else \"<\", label_a[1])\n",
    "condition_b = \"%s %d\"%(\">=\" if label_b[2]==\"以上\" else \"<\", label_b[1])\n",
    "\n",
    "sql = \"\"\"SELECT a.person_id,a.label_text,TIMESTAMPDIFF(YEAR,a.time_start,a.time_end) duration_a,b.label_text,TIMESTAMPDIFF(YEAR,b.time_start,b.time_end) duration_b \n",
    "         FROM label a JOIN label b ON a.person_id=b.person_id\n",
    "         WHERE a.label_text='{}' AND b.label_text='{}' AND TIMESTAMPDIFF(YEAR,a.time_start,a.time_end) {} AND TIMESTAMPDIFF(YEAR,a.time_start,a.time_end) {}\"\"\".format(label_a[0], label_b[0], condition_a, condition_b)\n",
    "\n",
    "res = db_obj.query(sql)\n",
    "print(res)"
   ]
  },
  {
   "cell_type": "code",
   "execution_count": null,
   "metadata": {},
   "outputs": [],
   "source": []
  }
 ],
 "metadata": {
  "kernelspec": {
   "display_name": "Python 3.8.10 64-bit",
   "language": "python",
   "name": "python3"
  },
  "language_info": {
   "codemirror_mode": {
    "name": "ipython",
    "version": 3
   },
   "file_extension": ".py",
   "mimetype": "text/x-python",
   "name": "python",
   "nbconvert_exporter": "python",
   "pygments_lexer": "ipython3",
   "version": "3.8.10"
  },
  "orig_nbformat": 4,
  "vscode": {
   "interpreter": {
    "hash": "7a96227b8776e9e8b92184c6bd2959aa06e1e0881b6901ba05538acbe1b6a7a4"
   }
  }
 },
 "nbformat": 4,
 "nbformat_minor": 2
}
